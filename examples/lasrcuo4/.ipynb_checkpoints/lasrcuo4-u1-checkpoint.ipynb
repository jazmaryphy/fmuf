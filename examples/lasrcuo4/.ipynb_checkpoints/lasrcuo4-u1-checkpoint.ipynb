{
 "cells": [
  {
   "cell_type": "code",
   "execution_count": 1,
   "metadata": {},
   "outputs": [],
   "source": [
    "try:\n",
    "    from undi import MuonNuclearInteraction\n",
    "except (ImportError, ModuleNotFoundError):\n",
    "    import sys\n",
    "    sys.path.append('../../undi/')\n",
    "    from undi import MuonNuclearInteraction\n",
    "import matplotlib.pyplot as plt\n",
    "import numpy as np\n",
    "import time"
   ]
  },
  {
   "cell_type": "markdown",
   "metadata": {},
   "source": [
    "# Define lattice structure\n",
    "\n",
    "Muon site $U_1$(0.12,  0.0,  0.11) define in the paper https://arxiv.org/pdf/1201.5406.pdf or https://doi.org/10.1016/j.phpro.2012.04.056"
   ]
  },
  {
   "cell_type": "code",
   "execution_count": 2,
   "metadata": {},
   "outputs": [],
   "source": [
    "angtom=1.0e-10                      # m\n",
    "elementary_charge=1.6021766E-19     # Coulomb = ampere ⋅ second\n",
    "\n",
    "Cu_Quadrupole_moment = -0.211e-28   # m^-2 \n",
    "La_Quadrupole_moment =  0.22e-28    # m^-2\n",
    "\n",
    "OmegaQmu=0                          #  quadrupolar coupling constant (Hz) of Mu define in undi code\n",
    "OmegaQI_Cu=  2*np.pi*34.0e6         #  213.6e6 or 194.8e6 # Hz (quadrupolar coupling constant)\n",
    "OmegaQI_La=  2*np.pi*6.4e6          #   40.2e6                 (quadrupolar coupling constant)\n",
    "a0=3.80 * angtom\n",
    "b0=a0\n",
    "c0=13.12 * angtom\n",
    "cell=[a0,b0,c0]                     # lattice parameter\n",
    "etaCu=0.02                          # eta, extract form paper\n",
    "etaLa=0.03                          \n",
    "\n",
    "scale=1/1.\n",
    "\n",
    "atoms = [\n",
    "\t    {'Position': np.array([0.12,  0.0,  0.11])*cell,\n",
    "\t     'Label': 'mu'},\n",
    "\n",
    "\t    {'Position': np.array([0.0, 0.0, 0.0])*cell,\n",
    "\t     'Label': 'Cu',\n",
    "\t     'ElectricQuadrupoleMoment': Cu_Quadrupole_moment,\n",
    "         'OmegaQI': OmegaQI_Cu,\n",
    "         'OmegaQmu': OmegaQmu,\n",
    "         'eta': etaCu,\n",
    "\t    },\n",
    "\t    \n",
    "\t    {'Position': np.array([1.0, 0.0, 0.0])*cell,\n",
    "\t     'Label': 'Cu',\n",
    "\t     'ElectricQuadrupoleMoment': Cu_Quadrupole_moment,\n",
    "         'OmegaQI': OmegaQI_Cu,\n",
    "         'OmegaQmu': OmegaQmu,\n",
    "         'eta': etaCu,\n",
    "\t    },\n",
    "\t    \n",
    "\t    {'Position': np.array([0.5, 0.5, 0.13892])*cell,\n",
    "\t     'Label': 'La',\n",
    "\t     'ElectricQuadrupoleMoment': La_Quadrupole_moment,\n",
    "         'OmegaQI': OmegaQI_La,\n",
    "         'OmegaQmu': OmegaQmu,\n",
    "         'eta': etaLa,\n",
    "\t    },\n",
    "\t    \n",
    "\t    {'Position': np.array([0.5, -0.5 , 0.13892])*cell,\n",
    "\t     'Label': 'La',\n",
    "\t     'ElectricQuadrupoleMoment': La_Quadrupole_moment,\n",
    "         'OmegaQI': OmegaQI_La,\n",
    "         'OmegaQmu': OmegaQmu,\n",
    "         'eta': etaLa,\n",
    "\t    },\n",
    "\t    \n",
    "\t    {'Position': np.array([0.0,  0.0,  0.36108])*cell,\n",
    "\t     'Label': 'La',\n",
    "\t     'ElectricQuadrupoleMoment': La_Quadrupole_moment,\n",
    "         'OmegaQI': OmegaQI_La,\n",
    "         'OmegaQmu': OmegaQmu,\n",
    "         'eta': etaLa,\n",
    "\t    }\n",
    "        ] "
   ]
  },
  {
   "cell_type": "markdown",
   "metadata": {},
   "source": [
    "# How we define electric field gradient from a point charge model\n",
    "Define in ../../undi/undi.py code"
   ]
  },
  {
   "cell_type": "code",
   "execution_count": 3,
   "metadata": {},
   "outputs": [],
   "source": [
    "elementary_charge=1.6021766E-19 # Coulomb = ampere ⋅ second\n",
    "h=6.6260693e-34 # Js\n",
    "hbar=h/(2*np.pi) # Js\n",
    "\n",
    "def Vzz_for_unit_charge_at_distance(p_mu, p_N):\n",
    "    x=p_N-p_mu\n",
    "    r = np.linalg.norm(x)\n",
    "    r*=1.0e-0   # convert to angs\n",
    "    epsilon0 = 8.8541878E-12 # ampere^2 ⋅ kilogram^−1 ⋅ meter^−3 ⋅ second^4\n",
    "    elementary_charge=1.6021766E-19 # Coulomb = ampere ⋅ second\n",
    "    Vzz = (2./(4 * np.pi * epsilon0)) * (elementary_charge / (r**3))\n",
    "    return Vzz\n",
    "\n",
    "def Vzz_from_Celio_PRL():\n",
    "    # 0.27 angstrom^−3 is from PRL 39 836\n",
    "    # (4 pi epsilon_0)^−1 (0.27 angstrom^−3) elementary_charge = 3.8879043E20 meter^−2 ⋅ volts\n",
    "    Vzz = 1.02702 * 3.8879043E20 # the factor 1.02702 gives exactly 3.2e6 s^-1 for omega_q\n",
    "    return Vzz\n",
    "\n",
    "\n",
    "def Vzz_Vanad():\n",
    "    # 0.27 angstrom^−3 is from PRL 39 836\n",
    "    # (4 pi epsilon_0)^−1 (0.27 angstrom^−3) elementary_charge = 3.8879043E20 meter^−2 ⋅ volts\n",
    "    Vzz = 1.02702 * 3.8879043E20 # the factor 1.02702 gives exactly 3.2e6 s^-1 for omega_q\n",
    "    Vzz = 3.75187733297e+22\n",
    "    return Vzz\n",
    "\n",
    "def get_V(p_mu, p_N, Vzz):\n",
    "    x=p_N-p_mu\n",
    "    n = np.linalg.norm(x)\n",
    "    x /= n; r = 1. # keeping formula below for clarity\n",
    "    return -Vzz * ( (3.*np.outer(x,x)-np.eye(3)*(r**2))/r**5 )"
   ]
  },
  {
   "cell_type": "markdown",
   "metadata": {},
   "source": [
    "# Calculation of Polarization\n",
    "Based from Celio approx."
   ]
  },
  {
   "cell_type": "code",
   "execution_count": 4,
   "metadata": {},
   "outputs": [
    {
     "name": "stderr",
     "output_type": "stream",
     "text": [
      "WARNING:undi:Using most abundand isotope for Cu, i.e. 63Cu, 0.6915 abundance\n",
      "WARNING:undi:Using most abundand isotope for Cu, i.e. 63Cu, 0.6915 abundance\n",
      "INFO:undi:Using most abundand isotope for La, i.e. 139La, 0.9991119 abundance\n",
      "INFO:undi:Using most abundand isotope for La, i.e. 139La, 0.9991119 abundance\n",
      "INFO:undi:Using most abundand isotope for La, i.e. 139La, 0.9991119 abundance\n",
      "INFO:undi:Hilbert space is 16384 dimensional\n"
     ]
    },
    {
     "name": "stdout",
     "output_type": "stream",
     "text": [
      "Computing signal 4 times with ZF 1 T...1...2...3...done!\n",
      "47.211947 seconds process time\n",
      "35.33233666419983 seconds wall time\n"
     ]
    }
   ],
   "source": [
    "###########################################################\n",
    "# measure process time\n",
    "t0 = time.clock()\n",
    "# measure wall time\n",
    "t0 = time.time()\n",
    "###########################################################\n",
    "\n",
    "ttime=20\n",
    "steps = 200\n",
    "n=1\n",
    "tlist = np.linspace(0, ttime*1e-6, steps)\n",
    "signals = np.zeros([n,steps], dtype=np.float)\n",
    "\n",
    "# we are not taking a powder average, so I set n=1\n",
    "# comment on NS.translate_rotate_sample_vec(np.array(threetups[idx]))\n",
    "\n",
    "\n",
    "threetups = []\n",
    "for idx, Bmod in enumerate(range(n)):\n",
    "    NS = MuonNuclearInteraction(atoms, log_level='info')\n",
    "    threetups.append(NS.random_three_vector())\n",
    "    #NS.translate_rotate_sample_vec(np.array(threetups[idx]))\n",
    "    NS.translate_rotate_sample_vec(np.array([1.,1.,1.]))\n",
    "    print(\"Computing signal 4 times with ZF {} T...\".format(Bmod+1), end='', flush=True)\n",
    "    signal_lacu = NS.celio(tlist,  k=2)\n",
    "    for i in range(3):\n",
    "        print('{}...'.format(i+1), end='', flush=True)\n",
    "        signal_lacu += NS.celio(tlist, k=2)\n",
    "    print('done!')\n",
    "    signal_lacu /= float(i+1+1)\n",
    "    del NS\n",
    "\n",
    "    signals[idx]=signal_lacu\n",
    "    \n",
    "###########################################################\n",
    "# measure process time\n",
    "print (time.clock(), \"seconds process time\")\n",
    "# measure wall time\n",
    "print( time.time() - t0, \"seconds wall time\")\n",
    "###########################################################"
   ]
  },
  {
   "cell_type": "markdown",
   "metadata": {},
   "source": [
    "# Save Data..."
   ]
  },
  {
   "cell_type": "code",
   "execution_count": 5,
   "metadata": {},
   "outputs": [],
   "source": [
    "fi='U1-Final-' \n",
    "np.savez(fi+str(n)+'.npz',signals)\n",
    "file=np.load(fi+str(n)+'.npz')  # load the data if needed\n",
    "file.files\n",
    "A=file['arr_0']                 # Read the data\n",
    "# for i in range(n):  \n",
    "#     print(A[i])   "
   ]
  },
  {
   "cell_type": "markdown",
   "metadata": {},
   "source": [
    "# Plot..."
   ]
  },
  {
   "cell_type": "code",
   "execution_count": 6,
   "metadata": {},
   "outputs": [
    {
     "data": {
      "image/png": "[encoded data removed]",
      "text/plain": [
       "<Figure size 432x288 with 1 Axes>"
      ]
     },
     "metadata": {
      "needs_background": "light"
     },
     "output_type": "display_data"
    }
   ],
   "source": [
    "### to see with different direction\n",
    "fig, axes = plt.subplots(1,1)\n",
    "axes.axhline(y=1/3., color='k', ls='--', label='1/3')\n",
    "axes.axhline(y=0., color='k', ls='--')\n",
    "axes.plot(tlist,signals.sum(axis=0)/float(n),'r--',label='average '+str(n)) # in case of powder averag\n",
    "ticks = np.round(axes.get_xticks()*10.**6)\n",
    "axes.set_xticklabels(ticks)\n",
    "axes.set_xlabel(r'$t (\\mu s)$', fontsize=20)\n",
    "axes.set_ylabel(r'Asymmetry', fontsize=20);\n",
    "plt.legend()\n",
    "plt.show()"
   ]
  },
  {
   "cell_type": "markdown",
   "metadata": {},
   "source": [
    "# Plot Calculated and Extracted Data..."
   ]
  },
  {
   "cell_type": "code",
   "execution_count": 7,
   "metadata": {},
   "outputs": [
    {
     "data": {
      "image/png": "[encoded data removed]",
      "text/plain": [
       "<Figure size 432x288 with 1 Axes>"
      ]
     },
     "metadata": {
      "needs_background": "light"
     },
     "output_type": "display_data"
    }
   ],
   "source": [
    "import numpy as np\n",
    "import matplotlib.pyplot as plt\n",
    "\n",
    "pre='U1'\n",
    "filename = pre+'.dat'       # Extract data from the paper\n",
    "ttime=20\n",
    "tlist = np.linspace(0, ttime*1e-6, 200)\n",
    "fi='U1-Final-' \n",
    "file=np.load(fi+str(n)+'.npz')  # load the data if needed\n",
    "file.files\n",
    "A=file['arr_0']                 # Read the data\n",
    "# for i in range(n):  \n",
    "#     print(A[i])\n",
    "x,y=np.loadtxt(filename,unpack=True)\n",
    "fig, axes = plt.subplots(1,1)\n",
    "axes.axhline(y=1/3., color='k', ls=':')\n",
    "axes.axhline(y=0., color='k', ls=':')\n",
    "axes.plot(tlist,A.sum(axis=0)/float(n),'g--',label='Calc. ')\n",
    "axes.plot(x*1e-6,y, 'g',label='U1 Data')\n",
    "ticks = np.round(axes.get_xticks()*10.**6)\n",
    "axes.set_xticklabels(ticks)\n",
    "axes.set_xlabel(r'$t (\\mu s)$', fontsize=20)\n",
    "axes.set_ylabel(r'Asymmetry', fontsize=20);\n",
    "plt.legend()\n",
    "plt.show()"
   ]
  },
  {
   "cell_type": "code",
   "execution_count": null,
   "metadata": {},
   "outputs": [],
   "source": []
  }
 ],
 "metadata": {
  "kernelspec": {
   "display_name": "Python 3",
   "language": "python",
   "name": "python3"
  },
  "language_info": {
   "codemirror_mode": {
    "name": "ipython",
    "version": 3
   },
   "file_extension": ".py",
   "mimetype": "text/x-python",
   "name": "python",
   "nbconvert_exporter": "python",
   "pygments_lexer": "ipython3",
   "version": "3.6.9"
  }
 },
 "nbformat": 4,
 "nbformat_minor": 2
}
