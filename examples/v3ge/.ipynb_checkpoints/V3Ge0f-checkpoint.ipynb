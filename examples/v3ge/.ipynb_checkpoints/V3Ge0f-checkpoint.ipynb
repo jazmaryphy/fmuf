{
 "cells": [
  {
   "cell_type": "code",
   "execution_count": 5,
   "metadata": {},
   "outputs": [],
   "source": [
    "try:\n",
    "    from undi import MuonNuclearInteraction\n",
    "except (ImportError, ModuleNotFoundError):\n",
    "    import sys\n",
    "    sys.path.append('/home/misah/PARMA/WORK/undi-master/undi/')\n",
    "    from undi import MuonNuclearInteraction\n",
    "import matplotlib.pyplot as plt\n",
    "import numpy as np"
   ]
  },
  {
   "cell_type": "code",
   "execution_count": 6,
   "metadata": {},
   "outputs": [],
   "source": [
    "angtom=1.0e-10 # m\n",
    "a=9.5672616959 # V3Ge supercell lattice constant, in Angstrom\n",
    "\n",
    "V_Quadrupole_moment =  -0.05e-28 # m^-2\n",
    "atoms = [\n",
    "    \n",
    "    {'Position': np.array([0.000,   0.124923365,   0.248753006]) * a * angtom,\n",
    "     'Label': 'mu'},\n",
    "\n",
    "    {'Position': np.array([0.0,   0.256920829,   0.118611046])*angtom*a,\n",
    "     'Label': 'V',\n",
    "     'ElectricQuadrupoleMoment': V_Quadrupole_moment,\n",
    "     # 'OmegaQmu': 3.2e6 # s^-1\n",
    "    },\n",
    "    \n",
    "    {'Position': np.array([0.0,   0.254298948,   0.381177541])*angtom*a,\n",
    "     'Label': 'V',\n",
    "     'ElectricQuadrupoleMoment': V_Quadrupole_moment,\n",
    "     # 'OmegaQmu': 3.2e6 # s^-1\n",
    "    },\n",
    "    \n",
    "    {'Position': np.array([0.131381043,  -0.0,   0.249651988])*angtom*a,\n",
    "     'Label': 'V',\n",
    "     'ElectricQuadrupoleMoment': V_Quadrupole_moment,\n",
    "     # 'OmegaQmu': 3.2e6 # s^-1\n",
    "    },\n",
    "    \n",
    "    {'Position': np.array([0.868623816,  -0.0,   0.249647986])*angtom*a,\n",
    "    'Label': 'V',\n",
    "    'ElectricQuadrupoleMoment': V_Quadrupole_moment,\n",
    "    # 'OmegaQmu': 3.2e6 # s^-1\n",
    "    },\n",
    "#    \n",
    "#    {'Position': np.array([0.5    ,    0.5   ,     0.0])*angtom*a,\n",
    "#    'Label': 'V',\n",
    "#    'ElectricQuadrupoleMoment': V_Quadrupole_moment,\n",
    "#    # 'OmegaQmu': 3.2e6 # s^-1\n",
    "#    },\n",
    "#    \n",
    "#    {'Position': np.array([0.5    ,    0.5   ,     1.0])*angtom*a,\n",
    "#     'Label': 'V',\n",
    "#     'ElectricQuadrupoleMoment': V_Quadrupole_moment,\n",
    "#     # 'OmegaQmu': 3.2e6 # s^-1\n",
    "#    }\n",
    "]"
   ]
  },
  {
   "cell_type": "code",
   "execution_count": 7,
   "metadata": {},
   "outputs": [
    {
     "name": "stdout",
     "output_type": "stream",
     "text": [
      "5.24026384478656e+23\n"
     ]
    }
   ],
   "source": [
    "elementary_charge=1.6021766E-19 # Coulomb = ampere ⋅ second\n",
    "\n",
    "def Vzz_for_unit_charge_at_distance(r):\n",
    "    epsilon0 = 8.8541878E-12 # ampere^2 ⋅ kilogram^−1 ⋅ meter^−3 ⋅ second^4\n",
    "    elementary_charge=1.6021766E-19 # Coulomb = ampere ⋅ second\n",
    "    Vzz = (2./(4 * np.pi * epsilon0)) * (elementary_charge / (r**3))\n",
    "    return Vzz\n",
    "\n",
    "def Vzz_from_Celio_PRL():\n",
    "    # 0.27 angstrom^−3 is from PRL 39 836\n",
    "    # (4 pi epsilon_0)^−1 (0.27 angstrom^−3) elementary_charge = 3.8879043E20 meter^−2 ⋅ volts\n",
    "    Vzz = 1.02702 * 3.8879043E20 # the factor 1.02702 gives exactly 3.2e6 s^-1 for omega_q\n",
    "    return Vzz\n",
    "\n",
    "def get_V(p_mu, p_N, Vzz):\n",
    "    x=p_N-p_mu\n",
    "    n = np.linalg.norm(x)\n",
    "    x /= n; r = 1. # keeping formula below for clarity\n",
    "    return -Vzz * ( (3.*np.outer(x,x)-np.eye(3)*(r**2))/r**5 )\n",
    "\n",
    "\n",
    "for idx, atom in enumerate(atoms):\n",
    "    if atom['Label'] == 'V':\n",
    "        atoms[idx]['EFGTensor'] = get_V(atoms[0]['Position'], atom['Position'], \\\n",
    "                                  0*Vzz_for_unit_charge_at_distance(1.77*angtom))\n",
    "print(1009*Vzz_for_unit_charge_at_distance(1.77*angtom))"
   ]
  },
  {
   "cell_type": "code",
   "execution_count": 8,
   "metadata": {},
   "outputs": [
    {
     "name": "stderr",
     "output_type": "stream",
     "text": [
      "INFO:undi:Using most abundand isotope for V, i.e. 51V, 0.9975 abundance\n",
      "INFO:undi:Using most abundand isotope for V, i.e. 51V, 0.9975 abundance\n",
      "INFO:undi:Using most abundand isotope for V, i.e. 51V, 0.9975 abundance\n",
      "INFO:undi:Using most abundand isotope for V, i.e. 51V, 0.9975 abundance\n",
      "INFO:undi:Hilbert space is 8192 dimensional\n"
     ]
    },
    {
     "name": "stdout",
     "output_type": "stream",
     "text": [
      "Computing signal 4 times with LF 0.0 T...(-93932.74630864596, -1.2618796678680087e-16)\n",
      "(-93932.74630864592, -1.2618796678680092e-16)\n",
      "(-93932.74630864587, -1.2618796678680097e-16)\n",
      "(-93932.74630864593, -2.523759335736018e-16)\n",
      "1...(-93932.74630864596, -1.2618796678680087e-16)\n",
      "(-93932.74630864592, -1.2618796678680092e-16)\n",
      "(-93932.74630864587, -1.2618796678680097e-16)\n",
      "(-93932.74630864593, -2.523759335736018e-16)\n",
      "2...(-93932.74630864596, -1.2618796678680087e-16)\n",
      "(-93932.74630864592, -1.2618796678680092e-16)\n",
      "(-93932.74630864587, -1.2618796678680097e-16)\n",
      "(-93932.74630864593, -2.523759335736018e-16)\n",
      "3...(-93932.74630864596, -1.2618796678680087e-16)\n",
      "(-93932.74630864592, -1.2618796678680092e-16)\n",
      "(-93932.74630864587, -1.2618796678680097e-16)\n",
      "(-93932.74630864593, -2.523759335736018e-16)\n"
     ]
    },
    {
     "name": "stderr",
     "output_type": "stream",
     "text": [
      "INFO:undi:Using most abundand isotope for V, i.e. 51V, 0.9975 abundance\n",
      "INFO:undi:Using most abundand isotope for V, i.e. 51V, 0.9975 abundance\n",
      "INFO:undi:Using most abundand isotope for V, i.e. 51V, 0.9975 abundance\n",
      "INFO:undi:Using most abundand isotope for V, i.e. 51V, 0.9975 abundance\n",
      "INFO:undi:Hilbert space is 8192 dimensional\n"
     ]
    },
    {
     "name": "stdout",
     "output_type": "stream",
     "text": [
      "done!\n",
      "Computing signal 4 times with LF 0.0 T...(-93932.74630864596, -1.2618796678680087e-16)\n",
      "(-93932.74630864592, -1.2618796678680092e-16)\n",
      "(-93932.74630864587, -1.2618796678680097e-16)\n",
      "(-93932.74630864593, -2.523759335736018e-16)\n",
      "1...(-93932.74630864596, -1.2618796678680087e-16)\n",
      "(-93932.74630864592, -1.2618796678680092e-16)\n",
      "(-93932.74630864587, -1.2618796678680097e-16)\n",
      "(-93932.74630864593, -2.523759335736018e-16)\n",
      "2...(-93932.74630864596, -1.2618796678680087e-16)\n",
      "(-93932.74630864592, -1.2618796678680092e-16)\n",
      "(-93932.74630864587, -1.2618796678680097e-16)\n",
      "(-93932.74630864593, -2.523759335736018e-16)\n",
      "3...(-93932.74630864596, -1.2618796678680087e-16)\n",
      "(-93932.74630864592, -1.2618796678680092e-16)\n",
      "(-93932.74630864587, -1.2618796678680097e-16)\n",
      "(-93932.74630864593, -2.523759335736018e-16)\n",
      "done!\n"
     ]
    },
    {
     "data": {
      "image/png": "[encoded data removed]",
      "text/plain": [
       "<Figure size 432x288 with 1 Axes>"
      ]
     },
     "metadata": {
      "needs_background": "light"
     },
     "output_type": "display_data"
    }
   ],
   "source": [
    "steps = 100\n",
    "tlist = np.linspace(0, 16e-6, steps)\n",
    "signals = np.zeros([6,steps], dtype=np.float)\n",
    "\n",
    "#LongitudinalFields = (0.0, 0.001, 0.003, 0.007, 0.008, 0.01)\n",
    "LongitudinalFields = (0.0,0.0)\n",
    "for idx, Bmod in enumerate(LongitudinalFields):\n",
    "\n",
    "    # Put field along muon polarization, that is always z\n",
    "    B = Bmod * np.array([0,0.,1.])\n",
    "    NS = MuonNuclearInteraction(atoms, external_field=B, log_level='info')\n",
    "\n",
    "    # rotate the sumple such that the muon spin is aligned with\n",
    "    # the 111 direction (and, just for convenience, the muon position is\n",
    "    # set to (0,0,0) )\n",
    "    NS.translate_rotate_sample_vec(np.array([1.,1.,1.]))\n",
    "\n",
    "    print(\"Computing signal 4 times with LF {} T...\".format(Bmod), end='', flush=True)\n",
    "    signal_Cu = NS.celio(tlist,  k=2)\n",
    "    \n",
    "    for i in range(3):\n",
    "        print('{}...'.format(i+1), end='', flush=True)\n",
    "        signal_Cu += NS.celio(tlist, k=2)\n",
    "    print('done!')\n",
    "    signal_Cu /= float(i+1+1)\n",
    "    del NS\n",
    "\n",
    "    signals[idx]=signal_Cu\n",
    "\n",
    "\"\"\"\n",
    "...and the results is:\n",
    "\"\"\"\n",
    "\n",
    "fig, axes = plt.subplots(1,1)\n",
    "for i, Bmod in enumerate(LongitudinalFields):\n",
    "    color = list(np.random.choice(range(256), size=3)/256)\n",
    "    axes.plot(tlist, signals[i], label='{} G'.format(Bmod*1e4), linestyle='-', color=color)\n",
    "axes.set_ylim((-0.3,1.1))\n",
    "ticks = np.round(axes.get_xticks()*10.**6)\n",
    "axes.set_xticklabels(ticks)\n",
    "plt.legend()\n",
    "plt.show()"
   ]
  },
  {
   "cell_type": "code",
   "execution_count": 9,
   "metadata": {},
   "outputs": [],
   "source": [
    "# fig, axes = plt.subplots(1,1)\n",
    "# for i, Bmod in enumerate(efgray):\n",
    "#     color = list(np.random.choice(range(256), size=3)/256)\n",
    "#     axes.plot(tlist, signals[i], label='{} X efg'.format(Bmod*1), linestyle='-', color=color)\n",
    "# axes.set_ylim((-0.3,1.1))\n",
    "# ticks = np.round(axes.get_xticks()*10.**6)\n",
    "# axes.set_xticklabels(ticks)\n",
    "# plt.legend()\n",
    "# plt.show()"
   ]
  },
  {
   "cell_type": "code",
   "execution_count": null,
   "metadata": {},
   "outputs": [],
   "source": []
  },
  {
   "cell_type": "code",
   "execution_count": null,
   "metadata": {},
   "outputs": [],
   "source": []
  }
 ],
 "metadata": {
  "kernelspec": {
   "display_name": "Python 3",
   "language": "python",
   "name": "python3"
  },
  "language_info": {
   "codemirror_mode": {
    "name": "ipython",
    "version": 3
   },
   "file_extension": ".py",
   "mimetype": "text/x-python",
   "name": "python",
   "nbconvert_exporter": "python",
   "pygments_lexer": "ipython3",
   "version": "3.6.8"
  }
 },
 "nbformat": 4,
 "nbformat_minor": 2
}
