{
 "cells": [
  {
   "cell_type": "code",
   "execution_count": 2,
   "metadata": {},
   "outputs": [],
   "source": [
    "try:\n",
    "    from undi import MuonNuclearInteraction\n",
    "except (ImportError, ModuleNotFoundError):\n",
    "    import sys\n",
    "    sys.path.append('/home/misah/PARMA/WORK/undi-master/undi/')\n",
    "    from undi import MuonNuclearInteraction\n",
    "import matplotlib.pyplot as plt\n",
    "import numpy as np"
   ]
  },
  {
   "cell_type": "code",
   "execution_count": 3,
   "metadata": {},
   "outputs": [],
   "source": [
    "angtom=1.0e-10 # m\n",
    "a=9.5672616959 # V3Ge supercell lattice constant, in Angstrom\n",
    "\n",
    "OmegaQmu=0. #3.24e6 # s^-1\n",
    "V_Quadrupole_moment =  -0.05e-28 # m^-2\n",
    "atoms = [\n",
    "    \n",
    "    {'Position': np.array([0.000,   0.124923365,   0.248753006]) * a * angtom,\n",
    "     'Label': 'mu'},\n",
    "\n",
    "    {'Position': np.array([0.0,   0.256920829,   0.118611046])*angtom*a,\n",
    "     'Label': 'V',\n",
    "     'ElectricQuadrupoleMoment': V_Quadrupole_moment,\n",
    "     'OmegaQmu': OmegaQmu\n",
    "    },\n",
    "    \n",
    "    {'Position': np.array([0.0,   0.254298948,   0.381177541])*angtom*a,\n",
    "     'Label': 'V',\n",
    "     'ElectricQuadrupoleMoment': V_Quadrupole_moment,\n",
    "     'OmegaQmu': OmegaQmu\n",
    "    },\n",
    "    \n",
    "    {'Position': np.array([0.131381043,  -0.0,   0.249651988])*angtom*a,\n",
    "     'Label': 'V',\n",
    "     'ElectricQuadrupoleMoment': V_Quadrupole_moment,\n",
    "     'OmegaQmu': OmegaQmu\n",
    "    },\n",
    "    \n",
    "    {'Position': np.array([0.868623816,  -0.0,   0.249647986])*angtom*a,\n",
    "    'Label': 'V',\n",
    "    'ElectricQuadrupoleMoment': V_Quadrupole_moment,\n",
    "    'OmegaQmu': OmegaQmu\n",
    "    },\n",
    "#    \n",
    "#    {'Position': np.array([0.5    ,    0.5   ,     0.0])*angtom*a,\n",
    "#    'Label': 'V',\n",
    "#    'ElectricQuadrupoleMoment': V_Quadrupole_moment,\n",
    "#    # 'OmegaQmu': 3.2e6 # s^-1\n",
    "#    },\n",
    "#    \n",
    "#    {'Position': np.array([0.5    ,    0.5   ,     1.0])*angtom*a,\n",
    "#     'Label': 'V',\n",
    "#     'ElectricQuadrupoleMoment': V_Quadrupole_moment,\n",
    "#     # 'OmegaQmu': 3.2e6 # s^-1\n",
    "#    }\n",
    "]"
   ]
  },
  {
   "cell_type": "code",
   "execution_count": 4,
   "metadata": {},
   "outputs": [],
   "source": [
    "elementary_charge=1.6021766E-19 # Coulomb = ampere ⋅ second\n",
    "\n",
    "def Vzz_for_unit_charge_at_distance(r):\n",
    "    epsilon0 = 8.8541878E-12 # ampere^2 ⋅ kilogram^−1 ⋅ meter^−3 ⋅ second^4\n",
    "    elementary_charge=1.6021766E-19 # Coulomb = ampere ⋅ second\n",
    "    Vzz = (2./(4 * np.pi * epsilon0)) * (elementary_charge / (r**3))\n",
    "    return Vzz\n",
    "\n",
    "def Vzz_from_Celio_PRL():\n",
    "    # 0.27 angstrom^−3 is from PRL 39 836\n",
    "    # (4 pi epsilon_0)^−1 (0.27 angstrom^−3) elementary_charge = 3.8879043E20 meter^−2 ⋅ volts\n",
    "    Vzz = 1.02702 * 3.8879043E20 # the factor 1.02702 gives exactly 3.2e6 s^-1 for omega_q\n",
    "    return Vzz\n",
    "\n",
    "def get_V(p_mu, p_N, Vzz):\n",
    "    x=p_N-p_mu\n",
    "    n = np.linalg.norm(x)\n",
    "    x /= n; r = 1. # keeping formula below for clarity\n",
    "    return -Vzz * ( (3.*np.outer(x,x)-np.eye(3)*(r**2))/r**5 )\n",
    "\n",
    "\n",
    "# for idx, atom in enumerate(atoms):\n",
    "#     if atom['Label'] == 'V':\n",
    "#         atoms[idx]['EFGTensor'] = get_V(atoms[0]['Position'], atom['Position'], \\\n",
    "#                                   1*Vzz_for_unit_charge_at_distance(1.77*angtom))\n",
    "# print(1*Vzz_for_unit_charge_at_distance(1.77*angtom))"
   ]
  },
  {
   "cell_type": "code",
   "execution_count": 7,
   "metadata": {
    "scrolled": false
   },
   "outputs": [
    {
     "name": "stderr",
     "output_type": "stream",
     "text": [
      "INFO:undi:Using most abundand isotope for V, i.e. 51V, 0.9975 abundance\n",
      "INFO:undi:Using most abundand isotope for V, i.e. 51V, 0.9975 abundance\n",
      "INFO:undi:Using most abundand isotope for V, i.e. 51V, 0.9975 abundance\n",
      "INFO:undi:Using most abundand isotope for V, i.e. 51V, 0.9975 abundance\n",
      "INFO:undi:Hilbert space is 8192 dimensional\n"
     ]
    },
    {
     "name": "stdout",
     "output_type": "stream",
     "text": [
      "Computing signal 4 times with ZF with  0 times efg...1...2...3...done!\n"
     ]
    }
   ],
   "source": [
    "steps = 100\n",
    "tlist = np.linspace(0, 18e-6, steps)\n",
    "signals = np.zeros([6,steps], dtype=np.float)\n",
    "\n",
    "# efgray=np.arange(10,15,5)\n",
    "\n",
    "# for efg, j in enumerate(efgray):\n",
    "#     for idx, atom in enumerate(atoms):\n",
    "#         if atom['Label'] == 'V':\n",
    "#             atoms[idx]['EFGTensor'] = get_V(atoms[0]['Position'], atom['Position'], \\\n",
    "#                                       j*Vzz_for_unit_charge_at_distance(1.71*angtom))\n",
    "            \n",
    "#             #print(atoms[idx])\n",
    "\n",
    "if True:\n",
    "    NS = MuonNuclearInteraction(atoms, log_level='info')\n",
    "\n",
    "    # rotate the sumple such that the muon spin is aligned with\n",
    "    # the 111 direction (and, just for convenience, the muon position is\n",
    "    # set to (0,0,0) )\n",
    "    NS.random_three_vector()\n",
    "    NS.translate_rotate_sample_vec(np.array([0.,1.,1.]))\n",
    "\n",
    "    print(\"Computing signal 4 times with ZF with  {} times efg...\".format(0), end='', flush=True)\n",
    "    signal_Cu = NS.celio(tlist,  k=2)\n",
    "    for i in range(3):\n",
    "        print('{}...'.format(i+1), end='', flush=True)\n",
    "        signal_Cu += NS.celio(tlist, k=2)\n",
    "    print('done!')\n",
    "    signal_Cu /= float(i+1+1)\n",
    "    del NS\n",
    "\n",
    "    signals=signal_Cu\n",
    "\n",
    "# \"\"\"\n",
    "# ...and the results is:\n",
    "# \"\"\"\n",
    "\n",
    "# fig, axes = plt.subplots(1,1)\n",
    "# for i, Bmod in enumerate(efgray):\n",
    "#     color = list(np.random.choice(range(256), size=3)/256)\n",
    "#     axes.plot(tlist, signals[i], label='{} G'.format(Bmod*1e4), linestyle='-', color=color)\n",
    "# axes.set_ylim((-0.3,1.1))\n",
    "# ticks = np.round(axes.get_xticks()*10.**6)\n",
    "# axes.set_xticklabels(ticks)\n",
    "# plt.legend()\n",
    "# plt.show()"
   ]
  },
  {
   "cell_type": "code",
   "execution_count": 8,
   "metadata": {},
   "outputs": [
    {
     "data": {
      "image/png": "[encoded data removed]",
      "text/plain": [
       "<Figure size 432x288 with 1 Axes>"
      ]
     },
     "metadata": {
      "needs_background": "light"
     },
     "output_type": "display_data"
    }
   ],
   "source": [
    "fig, axes = plt.subplots(1,1)\n",
    "#for i, Bmod in enumerate(efgray):\n",
    "color = list(np.random.choice(range(256), size=3)/256)\n",
    "axes.plot(tlist, signal_Cu, label='{} x efg'.format(0*1), linestyle='-', color=color)\n",
    "axes.axhline(y=1/3.,label='1/3')\n",
    "axes.axhline(y=2/3.,label='2/3')\n",
    "#axes.set_ylim((-0.5,1.1))\n",
    "ticks = np.round(axes.get_xticks()*10.**6)\n",
    "axes.set_xticklabels(ticks)\n",
    "plt.legend()\n",
    "plt.grid()\n",
    "plt.show()"
   ]
  },
  {
   "cell_type": "code",
   "execution_count": 52,
   "metadata": {},
   "outputs": [],
   "source": [
    "# from scipy.io import loadmat\n",
    "# import matplotlib.ticker as ticker\n",
    "# f=loadmat('v3ge-expt.mat')\n",
    "# t0=f['t']\n",
    "# y0=f['y']\n",
    "# t=t0[0]*1e-6\n",
    "# y=y0[0]/0.2191\n",
    "# fig, axes = plt.subplots(1,1)\n",
    "# #for i, Bmod in enumerate(efgray):\n",
    "# color = list(np.random.choice(range(256), size=3)/256)\n",
    "# axes.plot(tlist, signal_Cu, label='{} x efg'.format(0), linestyle='-', color=color)\n",
    "# axes.plot(t,y, label='Expt', linestyle=':')\n",
    "# #axes.set_ylim((-0.3,1.1))\n",
    "# axes.set_xlim((0.,max(tlist)))\n",
    "# ticks = np.round(axes.get_xticks()*10.**6)\n",
    "# axes.set_xticklabels(ticks)\n",
    "# plt.legend(loc='center left', bbox_to_anchor=(1, 0.5))\n",
    "# plt.show()"
   ]
  },
  {
   "cell_type": "code",
   "execution_count": 53,
   "metadata": {},
   "outputs": [
    {
     "data": {
      "image/png": "[encoded data removed]",
      "text/plain": [
       "<Figure size 432x288 with 1 Axes>"
      ]
     },
     "metadata": {
      "needs_background": "light"
     },
     "output_type": "display_data"
    }
   ],
   "source": [
    "## the bamuba function\n",
    "sys.path.insert(0, '/home/misah/PARMA/WORK/undi-master/examples/v3ge/')\n",
    "#import bamuba as b\n",
    "from bamuba import plot_bamuba\n",
    "tlist0 = np.linspace(0, 18, 1000)\n",
    "y=plot_bamuba(tlist0)\n",
    "a0=0.2191\n",
    "fig, axes = plt.subplots(1,1)\n",
    "#for i, Bmod in enumerate(efgray):\n",
    "color = list(np.random.choice(range(256), size=3)/256)\n",
    "#axes.plot(tlist, signal_Cu*a0, label='{} x efg'.format(0*1), linestyle='-', color=color)\n",
    "axes.plot(tlist0*1e-6,y/1, label='Expt', linestyle=':')\n",
    "#axes.axhline(y=(1*1)/3,label='1/3')\n",
    "#axes.axhline(y=(2*1)/3,label='2/3')\n",
    "#axes.set_ylim((-0.3,1.1))\n",
    "#axes.set_xlim((0.,max(tlist)))\n",
    "ticks = np.round(axes.get_xticks()*10.**6)\n",
    "axes.set_xticklabels(ticks)\n",
    "plt.legend(loc='center left', bbox_to_anchor=(1, 0.5))\n",
    "plt.show()"
   ]
  },
  {
   "cell_type": "code",
   "execution_count": null,
   "metadata": {},
   "outputs": [],
   "source": []
  }
 ],
 "metadata": {
  "kernelspec": {
   "display_name": "Python 3",
   "language": "python",
   "name": "python3"
  },
  "language_info": {
   "codemirror_mode": {
    "name": "ipython",
    "version": 3
   },
   "file_extension": ".py",
   "mimetype": "text/x-python",
   "name": "python",
   "nbconvert_exporter": "python",
   "pygments_lexer": "ipython3",
   "version": "3.6.9"
  }
 },
 "nbformat": 4,
 "nbformat_minor": 2
}
